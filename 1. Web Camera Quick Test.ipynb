{
 "cells": [
  {
   "cell_type": "markdown",
   "id": "geographic-springer",
   "metadata": {},
   "source": [
    "## 1. [OpenCV & Python // Web Camera Quick Test](https://www.codingforentrepreneurs.com/blog/opencv-python-web-camera-quick-test/)"
   ]
  },
  {
   "cell_type": "code",
   "execution_count": null,
   "id": "facc4188",
   "metadata": {},
   "outputs": [],
   "source": [
    "stream = 1 # defaut is 0"
   ]
  },
  {
   "cell_type": "code",
   "execution_count": 4,
   "id": "crazy-powder",
   "metadata": {},
   "outputs": [],
   "source": [
    "cap = cv2.VideoCapture(stream) \n",
    "\n",
    "while(True):\n",
    "    # Capture frame-by-frame\n",
    "    ret, frame = cap.read()\n",
    "\n",
    "    # Our operations on the frame come here\n",
    "    gray = cv2.cvtColor(frame, cv2.COLOR_BGR2GRAY)\n",
    "   \n",
    "    # Display the resulting frame\n",
    "    cv2.imshow('frame',frame)\n",
    "    cv2.imshow('gray',gray)\n",
    "    if cv2.waitKey(20) & 0xFF == ord('q'):\n",
    "        break\n",
    "\n",
    "# When everything done, release the capture\n",
    "cap.release()\n",
    "cv2.destroyAllWindows()"
   ]
  },
  {
   "cell_type": "markdown",
   "id": "adolescent-brake",
   "metadata": {},
   "source": [
    "```cv2.VideoCapture(0)```中0为Camera的索引"
   ]
  }
 ],
 "metadata": {
  "kernelspec": {
   "display_name": "Python 3",
   "language": "python",
   "name": "python3"
  },
  "language_info": {
   "codemirror_mode": {
    "name": "ipython",
    "version": 3
   },
   "file_extension": ".py",
   "mimetype": "text/x-python",
   "name": "python",
   "nbconvert_exporter": "python",
   "pygments_lexer": "ipython3",
   "version": "3.8.8"
  }
 },
 "nbformat": 4,
 "nbformat_minor": 5
}
