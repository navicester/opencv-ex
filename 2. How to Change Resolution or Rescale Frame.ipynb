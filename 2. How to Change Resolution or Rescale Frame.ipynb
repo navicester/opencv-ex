{
 "cells": [
  {
   "cell_type": "markdown",
   "id": "modified-input",
   "metadata": {},
   "source": [
    "## 2. [OpenCV & Python: How to Change Resolution or Rescale Frame](https://www.codingforentrepreneurs.com/blog/open-cv-python-change-video-resolution-or-scale/)\n",
    "### Adjust Resolution"
   ]
  },
  {
   "cell_type": "code",
   "execution_count": null,
   "id": "external-postcard",
   "metadata": {},
   "outputs": [],
   "source": [
    "stream = 0\n",
    "cap = cv2.VideoCapture(stream)\n",
    "\n",
    "def make_1080p():\n",
    "    cap.set(3, 1920)\n",
    "    cap.set(4, 1080)\n",
    "\n",
    "def make_720p():\n",
    "    cap.set(3, 1280)\n",
    "    cap.set(4, 720)\n",
    "\n",
    "def make_480p():\n",
    "    cap.set(3, 640)\n",
    "    cap.set(4, 480)\n",
    "\n",
    "def change_res(width, height):\n",
    "    cap.set(3, width)\n",
    "    cap.set(4, height)\n",
    "    \n",
    "make_720p()\n",
    "change_res(1280, 720)"
   ]
  },
  {
   "cell_type": "code",
   "execution_count": null,
   "id": "difficult-kitchen",
   "metadata": {},
   "outputs": [],
   "source": []
  },
  {
   "cell_type": "markdown",
   "id": "least-shape",
   "metadata": {},
   "source": [
    "As you might have guessed, you cannot up-scale a resolution if your camera does not support it. For example, if your camera supports 720p, that's the maximum resolution the above method(s) will allow.\n",
    "\n",
    "### Scaling Factor (Downscale/Upscaling)"
   ]
  },
  {
   "cell_type": "code",
   "execution_count": null,
   "id": "distinct-integer",
   "metadata": {},
   "outputs": [],
   "source": [
    "def rescale_frame(frame, percent=75):\n",
    "    width = int(frame.shape[1] * percent/ 100)\n",
    "    height = int(frame.shape[0] * percent/ 100)\n",
    "    dim = (width, height)\n",
    "    return cv2.resize(frame, dim, interpolation =cv2.INTER_AREA)\n",
    "\n",
    "stream = 0\n",
    "cap = cv2.VideoCapture(stream)\n",
    "while True:\n",
    "    rect, frame = cap.read()\n",
    "    frame75 = rescale_frame(frame, percent=75)\n",
    "    cv2.imshow('frame75', frame75)\n",
    "    frame150 = rescale_frame(frame, percent=150)\n",
    "    cv2.imshow('frame150', frame150)\n",
    "\n",
    "cap.release()\n",
    "cv2.destroyAllWindows()"
   ]
  },
  {
   "cell_type": "markdown",
   "id": "sudden-fiction",
   "metadata": {},
   "source": [
    "With Scaling you can change the frame size regardless of your camera's resolution which, of course, could lead to poor results on upscaling (aka too pixelated).\n",
    "\n",
    "Either way, it's good to have these methods in your wheelhouse."
   ]
  }
 ],
 "metadata": {
  "kernelspec": {
   "display_name": "Python 3",
   "language": "python",
   "name": "python3"
  },
  "language_info": {
   "codemirror_mode": {
    "name": "ipython",
    "version": 3
   },
   "file_extension": ".py",
   "mimetype": "text/x-python",
   "name": "python",
   "nbconvert_exporter": "python",
   "pygments_lexer": "ipython3",
   "version": "3.8.8"
  }
 },
 "nbformat": 4,
 "nbformat_minor": 5
}
